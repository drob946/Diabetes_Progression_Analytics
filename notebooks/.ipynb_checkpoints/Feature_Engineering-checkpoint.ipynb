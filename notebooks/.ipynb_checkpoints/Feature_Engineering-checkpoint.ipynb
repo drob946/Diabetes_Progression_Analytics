{
 "cells": [
  {
   "cell_type": "markdown",
   "id": "790a97cb-3865-4ce2-abe2-e4318ec22afa",
   "metadata": {},
   "source": [
    "### Feature Engineering and Enhanced Dataset\n",
    "- Feature engineering is a critical step in improving model performance by transforming raw data into meaningful features. This process involved addressing outliers, creating interaction and polynomial terms, and evaluating feature importance.\n",
    "\n",
    "#### Outlier Capping\n",
    "- Address extreme values to reduce their impact on the model.\n",
    "- Capped outliers at 1.5 times the interquartile range (IQR) using the clip function.\n",
    "\n",
    "#### Feature Creation\n",
    "- Added interaction and polynomial terms to capture non-linear relationships and feature interactions\n",
    "- bmi_squared: The square of bmi to model non-linear effects.\n",
    "- bmi_bp: An interaction term combining bmi and bp (blood pressure).\n",
    "\n",
    "#### Feature Removal\n",
    "- Dropped s2 based on redundancy, simplifying the dataset.\n",
    "\n",
    "#### Feature Importance Evaluation\n",
    "- Trained a Random Forest Regressor to assess the relative importance of features in predicting the target variable.\n",
    "\n",
    "#### Key findings\n",
    "- s5 (logarithm of serum triglycerides) and bmi remain the most influential features.\n",
    "- Interaction and polynomial terms (bmi_bp, bmi_squared) contribute meaningfully to the model.\n"
   ]
  },
  {
   "cell_type": "code",
   "execution_count": 2,
   "id": "4908713a-8d86-45f6-af13-b937a2a26938",
   "metadata": {},
   "outputs": [
    {
     "data": {
      "text/html": [
       "<div>\n",
       "<style scoped>\n",
       "    .dataframe tbody tr th:only-of-type {\n",
       "        vertical-align: middle;\n",
       "    }\n",
       "\n",
       "    .dataframe tbody tr th {\n",
       "        vertical-align: top;\n",
       "    }\n",
       "\n",
       "    .dataframe thead th {\n",
       "        text-align: right;\n",
       "    }\n",
       "</style>\n",
       "<table border=\"1\" class=\"dataframe\">\n",
       "  <thead>\n",
       "    <tr style=\"text-align: right;\">\n",
       "      <th></th>\n",
       "      <th>age</th>\n",
       "      <th>sex</th>\n",
       "      <th>bmi</th>\n",
       "      <th>bp</th>\n",
       "      <th>s1</th>\n",
       "      <th>s2</th>\n",
       "      <th>s3</th>\n",
       "      <th>s4</th>\n",
       "      <th>s5</th>\n",
       "      <th>s6</th>\n",
       "      <th>target</th>\n",
       "    </tr>\n",
       "  </thead>\n",
       "  <tbody>\n",
       "    <tr>\n",
       "      <th>0</th>\n",
       "      <td>0.800500</td>\n",
       "      <td>1.065488</td>\n",
       "      <td>1.297088</td>\n",
       "      <td>0.459841</td>\n",
       "      <td>-0.929746</td>\n",
       "      <td>-0.732065</td>\n",
       "      <td>-0.912451</td>\n",
       "      <td>-0.054499</td>\n",
       "      <td>0.418531</td>\n",
       "      <td>-0.370989</td>\n",
       "      <td>151.0</td>\n",
       "    </tr>\n",
       "    <tr>\n",
       "      <th>1</th>\n",
       "      <td>-0.039567</td>\n",
       "      <td>-0.938537</td>\n",
       "      <td>-1.082180</td>\n",
       "      <td>-0.553505</td>\n",
       "      <td>-0.177624</td>\n",
       "      <td>-0.402886</td>\n",
       "      <td>1.564414</td>\n",
       "      <td>-0.830301</td>\n",
       "      <td>-1.436589</td>\n",
       "      <td>-1.938479</td>\n",
       "      <td>75.0</td>\n",
       "    </tr>\n",
       "    <tr>\n",
       "      <th>2</th>\n",
       "      <td>1.793307</td>\n",
       "      <td>1.065488</td>\n",
       "      <td>0.934533</td>\n",
       "      <td>-0.119214</td>\n",
       "      <td>-0.958674</td>\n",
       "      <td>-0.718897</td>\n",
       "      <td>-0.680245</td>\n",
       "      <td>-0.054499</td>\n",
       "      <td>0.060156</td>\n",
       "      <td>-0.545154</td>\n",
       "      <td>141.0</td>\n",
       "    </tr>\n",
       "    <tr>\n",
       "      <th>3</th>\n",
       "      <td>-1.872441</td>\n",
       "      <td>-0.938537</td>\n",
       "      <td>-0.243771</td>\n",
       "      <td>-0.770650</td>\n",
       "      <td>0.256292</td>\n",
       "      <td>0.525397</td>\n",
       "      <td>-0.757647</td>\n",
       "      <td>0.721302</td>\n",
       "      <td>0.476983</td>\n",
       "      <td>-0.196823</td>\n",
       "      <td>206.0</td>\n",
       "    </tr>\n",
       "    <tr>\n",
       "      <th>4</th>\n",
       "      <td>0.113172</td>\n",
       "      <td>-0.938537</td>\n",
       "      <td>-0.764944</td>\n",
       "      <td>0.459841</td>\n",
       "      <td>0.082726</td>\n",
       "      <td>0.327890</td>\n",
       "      <td>0.171178</td>\n",
       "      <td>-0.054499</td>\n",
       "      <td>-0.672502</td>\n",
       "      <td>-0.980568</td>\n",
       "      <td>135.0</td>\n",
       "    </tr>\n",
       "  </tbody>\n",
       "</table>\n",
       "</div>"
      ],
      "text/plain": [
       "        age       sex       bmi        bp        s1        s2        s3  \\\n",
       "0  0.800500  1.065488  1.297088  0.459841 -0.929746 -0.732065 -0.912451   \n",
       "1 -0.039567 -0.938537 -1.082180 -0.553505 -0.177624 -0.402886  1.564414   \n",
       "2  1.793307  1.065488  0.934533 -0.119214 -0.958674 -0.718897 -0.680245   \n",
       "3 -1.872441 -0.938537 -0.243771 -0.770650  0.256292  0.525397 -0.757647   \n",
       "4  0.113172 -0.938537 -0.764944  0.459841  0.082726  0.327890  0.171178   \n",
       "\n",
       "         s4        s5        s6  target  \n",
       "0 -0.054499  0.418531 -0.370989   151.0  \n",
       "1 -0.830301 -1.436589 -1.938479    75.0  \n",
       "2 -0.054499  0.060156 -0.545154   141.0  \n",
       "3  0.721302  0.476983 -0.196823   206.0  \n",
       "4 -0.054499 -0.672502 -0.980568   135.0  "
      ]
     },
     "execution_count": 2,
     "metadata": {},
     "output_type": "execute_result"
    }
   ],
   "source": [
    "import pandas as pd\n",
    "data = pd.read_csv(\"../data/processed/diabetes_scaled.csv\")\n",
    "X = data.drop(\"target\", axis=1)\n",
    "y = data[\"target\"]\n",
    "\n",
    "data.head()"
   ]
  },
  {
   "cell_type": "code",
   "execution_count": 3,
   "id": "8141bb80-a880-4086-bc3b-5448bc2b0e36",
   "metadata": {},
   "outputs": [],
   "source": [
    "for col in X.columns:\n",
    "    Q1 = X[col].quantile(0.25)\n",
    "    Q3 = X[col].quantile(0.75)\n",
    "    IQR = Q3 - Q1\n",
    "    lower_bound = Q1 - 1.5 * IQR\n",
    "    upper_bound = Q3 + 1.5 * IQR\n",
    "\n",
    "    \n",
    "    X[col] = X[col].clip(lower=lower_bound, upper=upper_bound)"
   ]
  },
  {
   "cell_type": "code",
   "execution_count": 4,
   "id": "c88ff173-37a6-4f00-b216-0ad0ddbe77d0",
   "metadata": {},
   "outputs": [],
   "source": [
    "X = X.drop(\"s2\", axis=1)"
   ]
  },
  {
   "cell_type": "code",
   "execution_count": 5,
   "id": "f3bf4749-218d-4c07-8570-7077efc18d35",
   "metadata": {},
   "outputs": [],
   "source": [
    "X[\"bmi_squared\"] = X[\"bmi\"] ** 2\n",
    "X[\"bmi_bp\"] = X[\"bmi\"] * X[\"bp\"]\n"
   ]
  },
  {
   "cell_type": "code",
   "execution_count": 8,
   "id": "4593f1ad-f603-4aa2-a6f5-b0c607b8c602",
   "metadata": {
    "scrolled": true
   },
   "outputs": [
    {
     "data": {
      "image/png": "[encoded data removed]",
      "text/plain": [
       "<Figure size 500x200 with 1 Axes>"
      ]
     },
     "metadata": {},
     "output_type": "display_data"
    }
   ],
   "source": [
    "from sklearn.ensemble import RandomForestRegressor\n",
    "\n",
    "model = RandomForestRegressor(random_state=42)\n",
    "model.fit(X, y)\n",
    "\n",
    "import matplotlib.pyplot as plt\n",
    "feature_importances = pd.Series(model.feature_importances_, index=X.columns)\n",
    "feature_importances.sort_values(ascending=False).plot(kind=\"bar\", figsize=(5, 2), color=\"orange\")\n",
    "plt.title(\"Feature Importance\")\n",
    "plt.show()\n"
   ]
  },
  {
   "cell_type": "code",
   "execution_count": 9,
   "id": "021a8f73-e9b9-461f-9d5b-38ef45f4cd46",
   "metadata": {},
   "outputs": [
    {
     "name": "stdout",
     "output_type": "stream",
     "text": [
      "Enhanced data saved to ../data/processed/diabetes_enhanced.csv\n"
     ]
    }
   ],
   "source": [
    "enhanced_data = pd.concat([X, y], axis=1)\n",
    "enhanced_path = \"../data/processed/diabetes_enhanced.csv\"\n",
    "enhanced_data.to_csv(enhanced_path, index=False)\n",
    "print(f\"Enhanced data saved to {enhanced_path}\")"
   ]
  }
 ],
 "metadata": {
  "kernelspec": {
   "display_name": "Python 3 (ipykernel)",
   "language": "python",
   "name": "python3"
  },
  "language_info": {
   "codemirror_mode": {
    "name": "ipython",
    "version": 3
   },
   "file_extension": ".py",
   "mimetype": "text/x-python",
   "name": "python",
   "nbconvert_exporter": "python",
   "pygments_lexer": "ipython3",
   "version": "3.10.13"
  }
 },
 "nbformat": 4,
 "nbformat_minor": 5
}
